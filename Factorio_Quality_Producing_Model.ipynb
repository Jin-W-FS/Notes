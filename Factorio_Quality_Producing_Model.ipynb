{
 "cells": [
  {
   "cell_type": "markdown",
   "id": "1b053ea8-7b6c-4e9b-9209-cb2ca2cb4024",
   "metadata": {
    "jp-MarkdownHeadingCollapsed": true
   },
   "source": [
    "# Factorio 品质优化建模"
   ]
  },
  {
   "cell_type": "code",
   "execution_count": 1,
   "id": "1e27d0fe-23ea-44af-9fbe-17efdfa75901",
   "metadata": {},
   "outputs": [],
   "source": [
    "import numpy as np\n",
    "import sympy as sp\n",
    "import pandas as pd\n",
    "from IPython.display import display, Math, Markdown\n",
    "\n",
    "np.set_printoptions(precision=6, suppress=True, floatmode='maxprec')\n",
    "pd.set_option('display.precision', 6)"
   ]
  },
  {
   "cell_type": "markdown",
   "id": "5c5f011e-9c05-4dd9-b428-a6b955b8c2dc",
   "metadata": {
    "jp-MarkdownHeadingCollapsed": true
   },
   "source": [
    "# 基础设定"
   ]
  },
  {
   "cell_type": "markdown",
   "id": "48bf134a-b162-4836-80b1-10d6f5b6de0b",
   "metadata": {
    "jp-MarkdownHeadingCollapsed": true
   },
   "source": [
    "## 参数设定"
   ]
  },
  {
   "cell_type": "markdown",
   "id": "d1274887-546d-46b9-a747-3f7167ea3a4b",
   "metadata": {},
   "source": [
    "- 一个完整循环包含生产流程和回收流程\n",
    "- 设一个流程的总产能为$P$(等于1+所有产能加成), 品质加成概率为$Q$; 机器基础产能加成为$P_0$, 插槽位为N, 使用$n_1$个产能插件和$n_2$个品质插件; 又有当前可用的产能科技加成为$P_s$, 产能插件加成为$p$, 品质插件概率为$q$; 则:\n",
    "$$ \\begin{align*}\n",
    "N & = n_1 + n_2 \\\\\n",
    "P & = 1 + P_0 + P_S + n_1 p \\\\\n",
    "Q & = n_2 q \\\\\n",
    "\\end{align*}\n",
    "$$\n",
    "- 生产流程中有限制\n",
    "$$ 1 \\le P \\le 4, 0 \\le Q \\le 0.5 $$ \n",
    "- 回收流程固定有\n",
    "$$P = \\frac{1}{4}, Q = 4 q$$\n",
    "- 星岩再处理流程中，若将3种星岩视为一类物品，只考虑总数，则固定有\n",
    "$$P = 0.8, Q = 2 q$$\n",
    "- 另：不同工厂还有不同的制造速度倍率V，此参数不影响转化率，但影响生产速率。在基础倍率的基础上，工厂品质每升一级，制造速度增加30%，传说级增加150%。"
   ]
  },
  {
   "cell_type": "markdown",
   "id": "a668e790-e53a-4057-9096-8a5a8b8fdf65",
   "metadata": {},
   "source": [
    "- 按产能加成、插槽数和速度倍率分，常见工厂类型如下\n",
    "| 代表工厂 | $P_0$ | N | V |\n",
    "|------|------|------|------|\n",
    "| 离心机/破碎机 | 0 | 2 | 1 |\n",
    "| 化工厂 | 0 | 3 | 1 |\n",
    "| 组装机3 | 0 | 4 | 1.25 |\n",
    "| 生物室 | 0.5 | 4 | 2 |\n",
    "| 铸造厂 | 0.5 | 4 | 4 |\n",
    "| 电磁工厂 | 0.5 | 5 | 2 |\n",
    "| 低温工厂 | 0 | 8 | 2 |\n",
    "| 回收机 | -0.75 | 4 | 0.5(*16) |"
   ]
  },
  {
   "cell_type": "markdown",
   "id": "94a580d9-6d98-401e-b329-df659f6fda7a",
   "metadata": {
    "jp-MarkdownHeadingCollapsed": true
   },
   "source": [
    "## 转换矩阵"
   ]
  },
  {
   "cell_type": "markdown",
   "id": "6a6a3a4f-438c-43e1-b481-b6473d2e8200",
   "metadata": {},
   "source": [
    "- 品质加成概率Q的机制是: 基于当前品质等级, 升1级的概率为$\\frac{9}{10}Q$, 升2级的概率为$\\frac{9}{10^2}Q$, ..., 升到顶级(传说)的概率为$\\frac{1}{10^{n-1}}Q$"
   ]
  },
  {
   "cell_type": "markdown",
   "id": "261a5956-7388-4b67-8e20-b6acd14faa9b",
   "metadata": {},
   "source": [
    "- 因此，设参与一轮生产流程的物品，初始时的品质分布为$I = \\begin{bmatrix} I_1 & I_2 & I_3 & I_4 & I_5 \\end{bmatrix}$, 每个等级的工厂配置分别为$P_i, Q_i$, 结束时的品质分布为 $O = \\begin{bmatrix} O_1 & O_2 & O_3 & O_4 & O_5 \\end{bmatrix}$, 则使得$O = I T_p$的转换矩阵$T_p$为:"
   ]
  },
  {
   "cell_type": "code",
   "execution_count": 2,
   "id": "4da66b14-709a-4656-9efa-159eb3a00ac5",
   "metadata": {},
   "outputs": [
    {
     "data": {
      "text/latex": [
       "$\\displaystyle T = \\left[\\begin{matrix}P_{1} \\left(1 - Q_{1}\\right) & 0.9 P_{1} Q_{1} & 0.09 P_{1} Q_{1} & 0.009 P_{1} Q_{1} & 0.001 P_{1} Q_{1}\\\\0 & P_{2} \\left(1 - Q_{2}\\right) & 0.9 P_{2} Q_{2} & 0.09 P_{2} Q_{2} & 0.01 P_{2} Q_{2}\\\\0 & 0 & P_{3} \\left(1 - Q_{3}\\right) & 0.9 P_{3} Q_{3} & 0.1 P_{3} Q_{3}\\\\0 & 0 & 0 & P_{4} \\left(1 - Q_{4}\\right) & P_{4} Q_{4}\\\\0 & 0 & 0 & 0 & P_{5}\\end{matrix}\\right]$"
      ],
      "text/plain": [
       "<IPython.core.display.Math object>"
      ]
     },
     "metadata": {},
     "output_type": "display_data"
    }
   ],
   "source": [
    "P_1, P_2, P_3, P_4, P_5 = sp.symbols('P_1, P_2, P_3, P_4, P_5')\n",
    "Q_1, Q_2, Q_3, Q_4, Q_5 = sp.symbols('Q_1, Q_2, Q_3, Q_4, Q_5')\n",
    "T = sp.Matrix([\n",
    "    P_1 * sp.Matrix(1, 5, [ 1-Q_1 , 0.9*Q_1 , 0.09*Q_1 , 0.009*Q_1 , 0.001*Q_1 ]),\n",
    "    P_2 * sp.Matrix(1, 5, [ 0 , 1-Q_2 , 0.9*Q_2 , 0.09*Q_2 , 0.01*Q_2 ]),\n",
    "    P_3 * sp.Matrix(1, 5, [ 0 , 0 , 1-Q_3 , 0.9*Q_3 , 0.1*Q_3 ]),\n",
    "    P_4 * sp.Matrix(1, 5, [ 0 , 0 , 0 , 1-Q_4 , Q_4 ]),\n",
    "    P_5 * sp.Matrix(1, 5, [ 0 , 0 , 0 , 0 , 1])\n",
    "])\n",
    "display(Math('T = ' + sp.latex(T)))"
   ]
  },
  {
   "cell_type": "markdown",
   "id": "e77381fe-3b51-4c99-ad5b-473f1a89df99",
   "metadata": {},
   "source": [
    "- 特别地, 当除传说级外所有机器的配置均相同, 参数为$P, Q$, 传说级$P_5 = P_L$时, 可简化为"
   ]
  },
  {
   "cell_type": "code",
   "execution_count": 3,
   "id": "e96f7794-22ce-43d9-b9df-c6f0b1d77b72",
   "metadata": {},
   "outputs": [
    {
     "data": {
      "text/latex": [
       "$\\displaystyle T_p = \\left[\\begin{matrix}P \\left(1.0 - Q\\right) & 0.9 P Q & 0.09 P Q & 0.009 P Q & 0.001 P Q\\\\0 & P \\left(1.0 - Q\\right) & 0.9 P Q & 0.09 P Q & 0.01 P Q\\\\0 & 0 & P \\left(1.0 - Q\\right) & 0.9 P Q & 0.1 P Q\\\\0 & 0 & 0 & P \\left(1.0 - Q\\right) & P Q\\\\0 & 0 & 0 & 0 & P_{L}\\end{matrix}\\right]$"
      ],
      "text/plain": [
       "<IPython.core.display.Math object>"
      ]
     },
     "metadata": {},
     "output_type": "display_data"
    }
   ],
   "source": [
    "P, P_L, Q = sp.symbols('P, P_L, Q')\n",
    "T_p = T.evalf(subs={P_1:P, P_2:P, P_3:P, P_4:P, Q_1:Q, Q_2:Q, Q_3:Q, Q_4:Q}).subs(P_5, P_L)\n",
    "display(Math(r\"T_p = \" + sp.latex(T_p)))"
   ]
  },
  {
   "cell_type": "markdown",
   "id": "6e00cd3f-f9c8-4022-81e4-d0895a172f26",
   "metadata": {},
   "source": [
    "- 对用全传说品质插件的回收机，其$P = 0.25, Q = 0.248 \\approx 0.25 $，传说级 $P_L = \\begin{cases} 0.25 & if 回收 \\\\ 1 & if 不回收 \\end{cases}$"
   ]
  },
  {
   "cell_type": "code",
   "execution_count": 4,
   "id": "6e8adbee-52ad-4f26-a81e-9dc2213f33df",
   "metadata": {},
   "outputs": [
    {
     "data": {
      "text/latex": [
       "$\\displaystyle T_r = \\left[\\begin{matrix}0.1875 & 0.05625 & 0.005625 & 0.0005625 & 6.25 \\cdot 10^{-5}\\\\0 & 0.1875 & 0.05625 & 0.005625 & 0.000625\\\\0 & 0 & 0.1875 & 0.05625 & 0.00625\\\\0 & 0 & 0 & 0.1875 & 0.0625\\\\0 & 0 & 0 & 0 & P_{L}\\end{matrix}\\right]$"
      ],
      "text/plain": [
       "<IPython.core.display.Math object>"
      ]
     },
     "metadata": {},
     "output_type": "display_data"
    }
   ],
   "source": [
    "T_r = T_p.evalf(subs={Q:0.25, P:0.25})\n",
    "display(Math(rf'''T_r = {sp.latex(T_r)}'''))"
   ]
  },
  {
   "cell_type": "markdown",
   "id": "84e81aff-61b5-4d0e-acd5-b968e2bca37b",
   "metadata": {},
   "source": [
    "- 对全传说品质插件的破碎机(星岩再处理)，$P=0.8, Q=0.125,P_L=1$"
   ]
  },
  {
   "cell_type": "code",
   "execution_count": 5,
   "id": "9efb633d-6471-45f8-9f3b-a9700aec62a6",
   "metadata": {},
   "outputs": [
    {
     "data": {
      "text/latex": [
       "$\\displaystyle T_b = \\left[\\begin{matrix}0.7 & 0.09 & 0.009 & 0.0009 & 0.0001\\\\0 & 0.7 & 0.09 & 0.009 & 0.001\\\\0 & 0 & 0.7 & 0.09 & 0.01\\\\0 & 0 & 0 & 0.7 & 0.1\\\\0 & 0 & 0 & 0 & 1.0\\end{matrix}\\right]$"
      ],
      "text/plain": [
       "<IPython.core.display.Math object>"
      ]
     },
     "metadata": {},
     "output_type": "display_data"
    }
   ],
   "source": [
    "T_b = T_p.evalf(subs={Q:0.125, P:0.8, P_L:1})\n",
    "display(Math(rf'''T_b = {sp.latex(T_b)}'''))"
   ]
  },
  {
   "cell_type": "markdown",
   "id": "c37c2720-8e51-467f-a577-95370ad04ff1",
   "metadata": {},
   "source": [
    "- 考察一组完整的生产-回收循环，初始时原料-产品为$\\begin{bmatrix} I & O \\end{bmatrix}_i$，结束后变为$\\begin{bmatrix} I & O \\end{bmatrix}_{i+1}$，其转换矩阵$T$:\n",
    "$$\n",
    "\\begin{bmatrix} I & O \\end{bmatrix}_{i+1} =\n",
    "\\begin{bmatrix} I & O \\end{bmatrix}_i T =\n",
    "\\begin{bmatrix} I & O \\end{bmatrix}_i \\begin{bmatrix}\n",
    "A_1 & T_p \\\\\n",
    "T_r & A_2 \\end{bmatrix}\n",
    "$$\n",
    "- 或者写成\n",
    "$$\n",
    "\\begin{align*}\n",
    "I_{i+1} & = I_i A_1 + O_i T_r \\\\\n",
    "O_{i+1} & = O_i A_2 + I_i T_p\n",
    "\\end{align*}\n",
    "$$"
   ]
  },
  {
   "cell_type": "markdown",
   "id": "d4ec474f-ffae-4e19-bb2e-8ac038d7ccc0",
   "metadata": {},
   "source": [
    "- 如果原料/产物的全部用于合成/分解，则对应的$A_i=0$; 如果传说级原料/产物将全部保留，则对应的$A_i=A=\\begin{bmatrix}\n",
    "0 & \\cdots & 0 \\\\\n",
    "\\vdots & \\ddots & \\vdots \\\\\n",
    "0 & \\cdots & 1\n",
    "\\end{bmatrix}_{5 \\times 5}$"
   ]
  },
  {
   "cell_type": "code",
   "execution_count": 6,
   "id": "ed24b1d7-670e-4d35-b947-fb36435526ac",
   "metadata": {},
   "outputs": [
    {
     "data": {
      "text/latex": [
       "$\\displaystyle A = \\left[\\begin{matrix}0 & 0 & 0 & 0 & 0\\\\0 & 0 & 0 & 0 & 0\\\\0 & 0 & 0 & 0 & 0\\\\0 & 0 & 0 & 0 & 0\\\\0 & 0 & 0 & 0 & 1\\end{matrix}\\right]$"
      ],
      "text/plain": [
       "<IPython.core.display.Math object>"
      ]
     },
     "metadata": {},
     "output_type": "display_data"
    }
   ],
   "source": [
    "A = sp.zeros(5); A[4,4]=1;\n",
    "display(Math(r'A = ' + sp.latex(A)))"
   ]
  },
  {
   "cell_type": "markdown",
   "id": "fdf2d132-45f0-490f-8015-456679143a20",
   "metadata": {
    "jp-MarkdownHeadingCollapsed": true
   },
   "source": [
    "# 几种优化途径"
   ]
  },
  {
   "cell_type": "markdown",
   "id": "b9a97e66-aedf-4c81-ae3b-cf3366478d58",
   "metadata": {
    "jp-MarkdownHeadingCollapsed": true
   },
   "source": [
    "## 星岩再处理\n",
    "- $O_{i+1} = O_i T_b$"
   ]
  },
  {
   "cell_type": "code",
   "execution_count": 7,
   "id": "0ffd07f0-56ff-475a-997f-cd3765a4cdb7",
   "metadata": {},
   "outputs": [
    {
     "data": {
      "text/latex": [
       "$\\displaystyle T_b = \\left[\\begin{matrix}0.7 & 0.09 & 0.009 & 0.0009 & 0.0001\\\\0 & 0.7 & 0.09 & 0.009 & 0.001\\\\0 & 0 & 0.7 & 0.09 & 0.01\\\\0 & 0 & 0 & 0.7 & 0.1\\\\0 & 0 & 0 & 0 & 1.0\\end{matrix}\\right]$"
      ],
      "text/plain": [
       "<IPython.core.display.Math object>"
      ]
     },
     "metadata": {},
     "output_type": "display_data"
    }
   ],
   "source": [
    "display(Math(rf'T_b = {sp.latex(T_b)}'))"
   ]
  },
  {
   "cell_type": "markdown",
   "id": "7201396a-eadc-40dc-8d8d-09ddecbdf8f0",
   "metadata": {
    "jp-MarkdownHeadingCollapsed": true
   },
   "source": [
    "## 回收得到自身\n",
    "- $O_{i+1} = O_i T_r(P_L=1) = O_i T_R$"
   ]
  },
  {
   "cell_type": "code",
   "execution_count": 8,
   "id": "e40a3233-31d5-49f2-addb-832586af938d",
   "metadata": {},
   "outputs": [
    {
     "data": {
      "text/latex": [
       "$\\displaystyle T_R = \\left[\\begin{matrix}0.1875 & 0.05625 & 0.005625 & 0.0005625 & 6.25 \\cdot 10^{-5}\\\\0 & 0.1875 & 0.05625 & 0.005625 & 0.000625\\\\0 & 0 & 0.1875 & 0.05625 & 0.00625\\\\0 & 0 & 0 & 0.1875 & 0.0625\\\\0 & 0 & 0 & 0 & 1\\end{matrix}\\right]$"
      ],
      "text/plain": [
       "<IPython.core.display.Math object>"
      ]
     },
     "metadata": {},
     "output_type": "display_data"
    }
   ],
   "source": [
    "T_R = T_r.subs(P_L, 1).expand()\n",
    "display(Math(rf'T_R = {sp.latex(T_R)}'))"
   ]
  },
  {
   "cell_type": "markdown",
   "id": "2e7847a8-ee0e-4db8-a5b4-96baab17bbe7",
   "metadata": {
    "jp-MarkdownHeadingCollapsed": true
   },
   "source": [
    "## 作为产物优化(分-合)\n",
    "- 作为产物优化时，原料全部合成，而传说级产物不再分解，有$A_1 = 0, A_2 = A, T_p=T_p(P_L=P_M), T_r=T_r(P_L=0)$, 其中$P_M$为该机器的最大产能\n",
    "\n",
    "  考察过程 $\\begin{bmatrix} 0, O_i \\end{bmatrix} \\overset{分解}{\\rightarrow} \\begin{bmatrix} I_{i+1}, O_i' \\end{bmatrix} \\overset{合成}{\\rightarrow} \\begin{bmatrix} 0, O_{i+1} \\end{bmatrix} $, 有\n",
    "\n",
    "$$ \\begin{align*}\n",
    "O_{i+1} & = O_i' A_2 + I_{i+1} T_p \\\\\n",
    " & = O_i A_2 + O_i T_r T_p \\\\\n",
    " & = O_i (A + T_r(P_L=0) T_p(P_L=P_M)) \\\\\n",
    " & = O_i T_O\n",
    "\\end{align*}$$"
   ]
  },
  {
   "cell_type": "code",
   "execution_count": 9,
   "id": "5f7819a9-aa0c-40c6-813d-55a6681fb203",
   "metadata": {},
   "outputs": [
    {
     "data": {
      "text/latex": [
       "$\\displaystyle T_O = \\left[\\begin{matrix}- 0.1875 P Q + 0.1875 P & 0.1125 P Q + 0.05625 P & 0.061875 P Q + 0.005625 P & 0.01125 P Q + 0.0005625 P & 0.001875 P Q + 6.25 \\cdot 10^{-5} P_{M}\\\\0 & - 0.1875 P Q + 0.1875 P & 0.1125 P Q + 0.05625 P & 0.061875 P Q + 0.005625 P & 0.013125 P Q + 0.000625 P_{M}\\\\0 & 0 & - 0.1875 P Q + 0.1875 P & 0.1125 P Q + 0.05625 P & 0.075 P Q + 0.00625 P_{M}\\\\0 & 0 & 0 & - 0.1875 P Q + 0.1875 P & 0.1875 P Q + 0.0625 P_{M}\\\\0 & 0 & 0 & 0 & 1\\end{matrix}\\right]$"
      ],
      "text/plain": [
       "<IPython.core.display.Math object>"
      ]
     },
     "metadata": {},
     "output_type": "display_data"
    }
   ],
   "source": [
    "P_M = sp.symbols('P_M')\n",
    "T_O = (A + T_r.subs(P_L, 0) * T_p.subs(P_L, P_M)).expand()\n",
    "display(Math(rf'T_O = {sp.latex(T_O)}'))"
   ]
  },
  {
   "cell_type": "markdown",
   "id": "b4dee46d-efd6-4fa3-97b2-ff05b2ccd187",
   "metadata": {
    "jp-MarkdownHeadingCollapsed": true
   },
   "source": [
    "## 作为原料优化(合-分)\n",
    "- 作为原料优化时，产物全部分解一次，但传说级材料不再合成, 有 $A_1 = A, A_2 = 0, T_p = T_p(P_L=0), T_r = T_r(P_L=0.25)$\n",
    "\n",
    "  考察过程 $\\begin{bmatrix} I_i, 0 \\end{bmatrix} \\overset{合成}{\\rightarrow} \\begin{bmatrix} I_i', O_{i+1} \\end{bmatrix} \\overset{分解}{\\rightarrow}  \\begin{bmatrix} I_{i+1}, 0 \\end{bmatrix} $, 有\n",
    "\n",
    "$$ \\begin{align*}\n",
    "I_{i+1} & = I_i' A_1 + O_{i+1} T_r(P_L=0.25) \\\\\n",
    " & = I_i A_1 + I_i T_p(P_L=0) T_r(P_L=0.25) \\\\\n",
    " & = I_i(A + T_p(P_L=0) T_r(P_L=0.25)) \\\\\n",
    " & = I_i T_I\n",
    "\\end{align*}$$"
   ]
  },
  {
   "cell_type": "code",
   "execution_count": 10,
   "id": "b7315477-26c9-4678-89ed-99ce735361ca",
   "metadata": {},
   "outputs": [
    {
     "data": {
      "text/latex": [
       "$\\displaystyle T_I = \\left[\\begin{matrix}- 0.1875 P Q + 0.1875 P & 0.1125 P Q + 0.05625 P & 0.061875 P Q + 0.005625 P & 0.01125 P Q + 0.0005625 P & 0.001875 P Q + 6.25 \\cdot 10^{-5} P\\\\0 & - 0.1875 P Q + 0.1875 P & 0.1125 P Q + 0.05625 P & 0.061875 P Q + 0.005625 P & 0.013125 P Q + 0.000625 P\\\\0 & 0 & - 0.1875 P Q + 0.1875 P & 0.1125 P Q + 0.05625 P & 0.075 P Q + 0.00625 P\\\\0 & 0 & 0 & - 0.1875 P Q + 0.1875 P & 0.1875 P Q + 0.0625 P\\\\0 & 0 & 0 & 0 & 1\\end{matrix}\\right]$"
      ],
      "text/plain": [
       "<IPython.core.display.Math object>"
      ]
     },
     "metadata": {},
     "output_type": "display_data"
    }
   ],
   "source": [
    "T_I = (A + T_p.subs(P_L, 0) * T_r.subs(P_L, 0.25)).expand()\n",
    "display(Math(rf'T_I = {sp.latex(T_I)}'))"
   ]
  },
  {
   "cell_type": "markdown",
   "id": "be2cc102-05f3-448f-8f57-05992e78aa56",
   "metadata": {
    "jp-MarkdownHeadingCollapsed": true
   },
   "source": [
    "## 注意到\n",
    "$$T_O - T_I = \\begin{bmatrix}\n",
    "0_{4 \\times 4} & R_{4 \\times 1} (P_M - P) \\\\\n",
    "0_{1 \\times 4} & 0\n",
    "\\end{bmatrix}$$\n",
    "其中$R_i = T_r[i, 5], i=1 \\dots 4$\n",
    "\n",
    "  可知: 就单步转换而言，分-合式刷品质相比合-分式只在各级别到传说的转化率上有一个提升，且该提升正比于进行传说级生产的工厂上的产能插件加成$\\Delta P = P_M - P = n*p$, 以及回收机上各级别到传说的转化率$R_i = 10^{-4+i} P_r Q_r$"
   ]
  },
  {
   "cell_type": "code",
   "execution_count": 11,
   "id": "604e07d8-c9ca-4bf2-a9de-5b784f8c25da",
   "metadata": {},
   "outputs": [
    {
     "data": {
      "text/markdown": [
       "若令$r_i = \\frac{R_i(P_M-P)}{T_I[i,5]}$ (表示各级别的提升倍率)，则$r_i = \\frac{T_r[i,5]}{T_I[i,5]}(P_M-P) = \\left[\\begin{matrix}\\frac{1}{30.0 P Q + 1.0 P} & \\frac{1}{21.0 P Q + 1.0 P} & \\frac{1}{12.0 P Q + 1.0 P} & \\frac{1}{3.0 P Q + 1.0 P}\\end{matrix}\\right]^T (P_M-P)$"
      ],
      "text/plain": [
       "<IPython.core.display.Markdown object>"
      ]
     },
     "metadata": {},
     "output_type": "display_data"
    }
   ],
   "source": [
    "display(Markdown(r'''若令$r_i = \\frac{R_i(P_M-P)}{T_I[i,5]}$ (表示各级别的提升倍率)，则$r_i = \\frac{T_r[i,5]}{T_I[i,5]}(P_M-P) = %s^T (P_M-P)$''' %\n",
    "    sp.latex(sp.Matrix([1/(i/r) for i, r in zip(T_I[0:4,4],T_r[0:4,4])]).T)))"
   ]
  },
  {
   "cell_type": "markdown",
   "id": "9c6b331c-5f8e-4584-aa52-fdb79de2b966",
   "metadata": {
    "jp-MarkdownHeadingCollapsed": true
   },
   "source": [
    "# 转化率"
   ]
  },
  {
   "cell_type": "markdown",
   "id": "21ad83d2-10e7-4fc8-bde7-73f61cd7203f",
   "metadata": {
    "jp-MarkdownHeadingCollapsed": true
   },
   "source": [
    "## 定义\n",
    "- 合-分式定义状态为$X_i = I_i$, 其它情况下定义$X_i = O_i$\n",
    "- 每经过一个完整的生产-回收周期，$X_{i+1} = X_i T + X_i^+$\n",
    "- 若只在0时刻给予单位输入$X_0 = \\begin{bmatrix} 1 & 0 & 0 & 0 & 0 \\end{bmatrix}, X_i^+ = 0$, 若$\\lim_{n \\to \\infty}X_n = \\begin{bmatrix} \\dots & \\alpha \\end{bmatrix}$存在，则称$\\alpha$为（普通级到传说级的）转化率"
   ]
  },
  {
   "cell_type": "markdown",
   "id": "b975651f-e51b-48da-b107-057397598105",
   "metadata": {},
   "source": [
    "## 分析\n",
    "- 以上的条件下显然 $X_n = X_0 T^n$"
   ]
  },
  {
   "cell_type": "markdown",
   "id": "f5a0f8e8-b1a5-43a3-a2f4-b3a043cd5e64",
   "metadata": {},
   "source": [
    "- 容易验证，在限制条件$1 \\le P \\le P_M \\le 4, 0 \\le Q \\le 0.5$下，每种$T$都满足\n",
    "$$T = \\begin{bmatrix}\n",
    " a_{11} & a_{12} & a_{13} & a_{14} & a_{15} \\\\\n",
    " 0 & a_{22} & a_{23} & a_{24} & a_{25} \\\\\n",
    " 0 & 0 & a_{33} & a_{34} & a_{35} \\\\\n",
    " 0 & 0 & 0 & a_{44} & a_{45} \\\\\n",
    " 0 & 0 & 0 & 0 & 1 \\\\\n",
    "\\end{bmatrix} $$\n",
    "$$ 0 < a_{ij} < 1, 1 \\le i,j \\le 5 $$\n",
    "$$ \\sum_{j=1}^5 a_{ij} \\le 1, 1 \\le i \\le 4 $$\n",
    "  用矩阵/向量范数的方式表示为\n",
    "$$\\left\\|T\\right\\|_\\infty = \\max_{i=1\\dots5} \\left\\|T_i\\right\\|_1 = 1$$\n",
    "其中对$i=1\\dots4$, 当且仅当$P=P_M=4$时取到1。物理意义是优化后的产品总数不会多于之前的总数"
   ]
  },
  {
   "cell_type": "markdown",
   "id": "32fa8aa9-0c43-488a-a09c-bfe3ef257ba3",
   "metadata": {},
   "source": [
    "- 由$T$是末位为1的上三角矩阵，易知$T^n$都是末位为1的上三角矩阵\n",
    "\n",
    "- **引理**：设 $X = (x_1, x_2, x_3, x_4, x_5)$ 满足 $P(X): \\begin{cases} x_i \\ge 0 \\\\ \\left\\|X\\right\\|_1 \\le 1 \\end{cases}$ , $Y = (y_1, y_2, y_3, y_4, y_5) = X T$, 若$T$满足 $\\begin{cases} 0 \\le T_{ij} \\le 1 \\\\ 0 \\le \\sum_{j} T_{ij} \\le 1 \\end{cases}$,  易知$Y$也满足: \n",
    "$$ \\begin{cases}\n",
    "y_j = \\sum x_i T_{ij} \\ge 0\n",
    "\\\\\n",
    "\\left\\|Y\\right\\|_1 = \\sum_{j} \\sum_{i} x_i T_{ij} = \\sum_{i} (x_i \\sum_{j} T_{ij}) \\le \\sum_{i} x_i = \\left\\|X\\right\\|_1 \\le 1\n",
    "\\end{cases} $$\n",
    "  即 $P(X) => P(XT)$\n",
    "- 对$T^n$的每一行$T_i^n$，有 $T_i^{n+1} = T_i^{n} T$，其中$T$满足 $\\begin{cases} 0 \\le T_{ij} \\le 1 \\\\ 0 \\le \\sum_{j} T_{ij} \\le 1 \\end{cases}$. 故$P(T_i^1)$且$P(T_i^{n}) => P(T_i^{n+1})$, 对$n \\in N$使用数学归纳法得$P(T_i^n), n \\in N$. 即$T^n$的每个元素都$\\ge 0$，且每个行向量的$L1$范数都$\\le 1$\n",
    "\n",
    "- 故$T^n$也满足$T$的上述3个特征"
   ]
  },
  {
   "cell_type": "markdown",
   "id": "4167dc6d-9eea-4e66-8fbf-00a41ada5de3",
   "metadata": {},
   "source": [
    "- 将$T$写为分块矩阵$T = \\begin{bmatrix} K_{4 \\times 4} & b_{4 \\times 1} \\\\ 0_{1 \\times 4} & 1_{1 \\times 1}\\end{bmatrix}$, 则有\n",
    "$$\\begin{align*}\n",
    "T^1 &= \\begin{bmatrix} K & b \\\\ 0 & 1\\end{bmatrix} \\\\\n",
    "T^2 &= \\begin{bmatrix} K^2 & K b + b \\\\ 0 & 1\\end{bmatrix} \\\\\n",
    "T^3 &= \\begin{bmatrix} K^3 & K^2 b + K b + b \\\\ 0 & 1\\end{bmatrix} \\\\\n",
    "& \\dots \\\\\n",
    "T^n &= \\begin{bmatrix} K^n & b_n \\\\ 0 & 1\\end{bmatrix}, 其中b_n = K^{n-1}b + b_{n-1} = \\sum_{i=1}^{n-1} K^i b = \\frac{I-K^n}{I-K}b\n",
    "\\end{align*}$$\n",
    "- 由于\n",
    "$$\\left\\|K\\right\\|_\\infty = \\max_{i=1\\dots4} \\left\\|K_i\\right\\|_1 < \\max_{i=1\\dots4} \\left\\|T_i\\right\\|_1 <= 1$$\n",
    "  故\n",
    "$$\\lim_{n \\to \\infty} K^n = 0, \\lim_{n \\to \\infty} b_n = (I-K)^{-1}b $$\n",
    "- 即\n",
    "$$\\lim_{n \\to \\infty} T^n = \\begin{bmatrix} 0 & (I-K)^{-1}b \\\\ 0 & 1\\end{bmatrix}$$"
   ]
  },
  {
   "cell_type": "markdown",
   "id": "01a9c5df-061c-441f-86a1-ee4c5057bfc7",
   "metadata": {},
   "source": [
    "## 结论\n",
    "- 由前，将$T$按前4列、前4行分块$T = \\begin{bmatrix} K_{4 \\times 4} & b_{4 \\times 1} \\\\ 0_{1 \\times 4} & 1_{1 \\times 1}\\end{bmatrix}$，有\n",
    "$$ \\lim_{n \\to \\infty} X_n = X_0 \\lim_{n \\to \\infty} T^n =\n",
    " X_0 \\begin{bmatrix} 0 & (I-K)^{-1}b \\\\ 0 & 1\\end{bmatrix} = \n",
    " X_0 \\begin{bmatrix}\n",
    " 0 & 0 & 0 & 0 & \\alpha_1 \\\\\n",
    " 0 & 0 & 0 & 0 & \\alpha_2 \\\\\n",
    " 0 & 0 & 0 & 0 & \\alpha_3 \\\\\n",
    " 0 & 0 & 0 & 0 & \\alpha_4 \\\\\n",
    " 0 & 0 & 0 & 0 & 1 \\end{bmatrix} =\n",
    " \\begin{bmatrix} 0 & 0 & 0 & 0 & X_0 \\cdot (\\alpha_1, \\alpha_2, \\alpha_3, \\alpha_4, 1) \\end{bmatrix}\n",
    "$$\n",
    "- 对初始1单位的普通级输入$X_0 = \\begin{bmatrix} 1 & 0 & 0 & 0 & 0 \\end{bmatrix}$，$X_n = \\begin{bmatrix} 0 & 0 & 0 & 0 & \\alpha_1 \\end{bmatrix}$ 即最终会产出$\\alpha_1$数量的传说级物品\n",
    "- 故(普通级到传说级的)转化率 $\\alpha = \\alpha_1$, 此即为向量 $(I-K)^{-1} b$ 的第一个元素"
   ]
  },
  {
   "cell_type": "markdown",
   "id": "3bf465e6-38ef-460d-b796-9427708966ab",
   "metadata": {},
   "source": [
    "## 具体计算"
   ]
  },
  {
   "cell_type": "code",
   "execution_count": 50,
   "id": "261b2c17-d75a-4c9e-99ca-15fde8793092",
   "metadata": {},
   "outputs": [],
   "source": [
    "Ps, Qs = np.linspace(1, 4, 13), np.linspace(0, 0.5, 9)\n",
    "indices = pd.MultiIndex.from_product([Ps, Qs], names=['P', 'Q'])\n",
    "invs = [(sp.eye(4) - T_I[:4,:4].evalf(subs={'P':P,'Q':Q})).inv() for P, Q in indices]"
   ]
  },
  {
   "cell_type": "code",
   "execution_count": 52,
   "id": "40e223b8-f1a2-4a6d-975e-885af51fe3c0",
   "metadata": {},
   "outputs": [],
   "source": [
    "convrates = lambda T: (sp.eye(4) - T[:4,:4]).inv() * T[:4,4]\n",
    "convrate = lambda T: convrates(T)[0]"
   ]
  },
  {
   "cell_type": "code",
   "execution_count": 57,
   "id": "3587c08e-7c9c-406c-b0e2-2f0582857550",
   "metadata": {},
   "outputs": [],
   "source": [
    "data = [(invs[i] * T_I[:4,4].evalf(subs={'P':P,'Q':Q}))[0] for i, (P, Q) in enumerate(indices)]\n",
    "df = pd.DataFrame(np.array(data, dtype=np.float64), index=indices, columns=['α'])"
   ]
  },
  {
   "cell_type": "code",
   "execution_count": 61,
   "id": "c2c55df8-ccbe-4172-856d-18ea4c03a8a4",
   "metadata": {},
   "outputs": [],
   "source": [
    "df0 = df.reset_index().pivot(index='P', columns='Q', values='α')"
   ]
  },
  {
   "cell_type": "code",
   "execution_count": 62,
   "id": "44210937-d369-47eb-8137-b7f5fe09fedc",
   "metadata": {},
   "outputs": [
    {
     "data": {
      "text/markdown": [
       "\n",
       "### 星岩再处理\n",
       "0.0213333333333334\n",
       "### 回收自身\n",
       "0.000372816077868422\n",
       "### 合-分式优化在不同$P,Q$下的转化率\n"
      ],
      "text/plain": [
       "<IPython.core.display.Markdown object>"
      ]
     },
     "metadata": {},
     "output_type": "display_data"
    },
    {
     "data": {
      "text/html": [
       "<div>\n",
       "<style scoped>\n",
       "    .dataframe tbody tr th:only-of-type {\n",
       "        vertical-align: middle;\n",
       "    }\n",
       "\n",
       "    .dataframe tbody tr th {\n",
       "        vertical-align: top;\n",
       "    }\n",
       "\n",
       "    .dataframe thead th {\n",
       "        text-align: right;\n",
       "    }\n",
       "</style>\n",
       "<table border=\"1\" class=\"dataframe\">\n",
       "  <thead>\n",
       "    <tr style=\"text-align: right;\">\n",
       "      <th>Q</th>\n",
       "      <th>0.0000</th>\n",
       "      <th>0.0625</th>\n",
       "      <th>0.1250</th>\n",
       "      <th>0.1875</th>\n",
       "      <th>0.2500</th>\n",
       "      <th>0.3125</th>\n",
       "      <th>0.3750</th>\n",
       "      <th>0.4375</th>\n",
       "      <th>0.5000</th>\n",
       "    </tr>\n",
       "    <tr>\n",
       "      <th>P</th>\n",
       "      <th></th>\n",
       "      <th></th>\n",
       "      <th></th>\n",
       "      <th></th>\n",
       "      <th></th>\n",
       "      <th></th>\n",
       "      <th></th>\n",
       "      <th></th>\n",
       "      <th></th>\n",
       "    </tr>\n",
       "  </thead>\n",
       "  <tbody>\n",
       "    <tr>\n",
       "      <th>1.00</th>\n",
       "      <td>0.000373</td>\n",
       "      <td>0.000922</td>\n",
       "      <td>0.001594</td>\n",
       "      <td>0.002385</td>\n",
       "      <td>0.003293</td>\n",
       "      <td>0.004313</td>\n",
       "      <td>0.005442</td>\n",
       "      <td>0.006677</td>\n",
       "      <td>0.008014</td>\n",
       "    </tr>\n",
       "    <tr>\n",
       "      <th>1.25</th>\n",
       "      <td>0.000720</td>\n",
       "      <td>0.001701</td>\n",
       "      <td>0.002906</td>\n",
       "      <td>0.004327</td>\n",
       "      <td>0.005952</td>\n",
       "      <td>0.007772</td>\n",
       "      <td>0.009777</td>\n",
       "      <td>0.011955</td>\n",
       "      <td>0.014297</td>\n",
       "    </tr>\n",
       "    <tr>\n",
       "      <th>1.50</th>\n",
       "      <td>0.001340</td>\n",
       "      <td>0.003014</td>\n",
       "      <td>0.005066</td>\n",
       "      <td>0.007468</td>\n",
       "      <td>0.010196</td>\n",
       "      <td>0.013224</td>\n",
       "      <td>0.016528</td>\n",
       "      <td>0.020085</td>\n",
       "      <td>0.023873</td>\n",
       "    </tr>\n",
       "    <tr>\n",
       "      <th>1.75</th>\n",
       "      <td>0.002439</td>\n",
       "      <td>0.005216</td>\n",
       "      <td>0.008582</td>\n",
       "      <td>0.012476</td>\n",
       "      <td>0.016842</td>\n",
       "      <td>0.021628</td>\n",
       "      <td>0.026784</td>\n",
       "      <td>0.032265</td>\n",
       "      <td>0.038031</td>\n",
       "    </tr>\n",
       "    <tr>\n",
       "      <th>2.00</th>\n",
       "      <td>0.004390</td>\n",
       "      <td>0.008909</td>\n",
       "      <td>0.014286</td>\n",
       "      <td>0.020397</td>\n",
       "      <td>0.027133</td>\n",
       "      <td>0.034395</td>\n",
       "      <td>0.042094</td>\n",
       "      <td>0.050155</td>\n",
       "      <td>0.058509</td>\n",
       "    </tr>\n",
       "    <tr>\n",
       "      <th>2.25</th>\n",
       "      <td>0.007890</td>\n",
       "      <td>0.015142</td>\n",
       "      <td>0.023555</td>\n",
       "      <td>0.032897</td>\n",
       "      <td>0.042971</td>\n",
       "      <td>0.053610</td>\n",
       "      <td>0.064676</td>\n",
       "      <td>0.076052</td>\n",
       "      <td>0.087642</td>\n",
       "    </tr>\n",
       "    <tr>\n",
       "      <th>2.50</th>\n",
       "      <td>0.014268</td>\n",
       "      <td>0.025791</td>\n",
       "      <td>0.038724</td>\n",
       "      <td>0.052665</td>\n",
       "      <td>0.067300</td>\n",
       "      <td>0.082381</td>\n",
       "      <td>0.097715</td>\n",
       "      <td>0.113150</td>\n",
       "      <td>0.128571</td>\n",
       "    </tr>\n",
       "    <tr>\n",
       "      <th>2.75</th>\n",
       "      <td>0.026168</td>\n",
       "      <td>0.044311</td>\n",
       "      <td>0.063835</td>\n",
       "      <td>0.084126</td>\n",
       "      <td>0.104745</td>\n",
       "      <td>0.125383</td>\n",
       "      <td>0.145819</td>\n",
       "      <td>0.165902</td>\n",
       "      <td>0.185528</td>\n",
       "    </tr>\n",
       "    <tr>\n",
       "      <th>3.00</th>\n",
       "      <td>0.049110</td>\n",
       "      <td>0.077314</td>\n",
       "      <td>0.106106</td>\n",
       "      <td>0.134717</td>\n",
       "      <td>0.162682</td>\n",
       "      <td>0.189727</td>\n",
       "      <td>0.215705</td>\n",
       "      <td>0.240545</td>\n",
       "      <td>0.264227</td>\n",
       "    </tr>\n",
       "    <tr>\n",
       "      <th>3.25</th>\n",
       "      <td>0.095290</td>\n",
       "      <td>0.138028</td>\n",
       "      <td>0.178861</td>\n",
       "      <td>0.217269</td>\n",
       "      <td>0.253098</td>\n",
       "      <td>0.286384</td>\n",
       "      <td>0.317253</td>\n",
       "      <td>0.345869</td>\n",
       "      <td>0.372412</td>\n",
       "    </tr>\n",
       "    <tr>\n",
       "      <th>3.50</th>\n",
       "      <td>0.193741</td>\n",
       "      <td>0.254418</td>\n",
       "      <td>0.307722</td>\n",
       "      <td>0.354577</td>\n",
       "      <td>0.395906</td>\n",
       "      <td>0.432529</td>\n",
       "      <td>0.465148</td>\n",
       "      <td>0.494346</td>\n",
       "      <td>0.520611</td>\n",
       "    </tr>\n",
       "    <tr>\n",
       "      <th>3.75</th>\n",
       "      <td>0.420377</td>\n",
       "      <td>0.489754</td>\n",
       "      <td>0.544440</td>\n",
       "      <td>0.588616</td>\n",
       "      <td>0.625028</td>\n",
       "      <td>0.655546</td>\n",
       "      <td>0.681489</td>\n",
       "      <td>0.703810</td>\n",
       "      <td>0.723216</td>\n",
       "    </tr>\n",
       "    <tr>\n",
       "      <th>4.00</th>\n",
       "      <td>1.000000</td>\n",
       "      <td>1.000000</td>\n",
       "      <td>1.000000</td>\n",
       "      <td>1.000000</td>\n",
       "      <td>1.000000</td>\n",
       "      <td>1.000000</td>\n",
       "      <td>1.000000</td>\n",
       "      <td>1.000000</td>\n",
       "      <td>1.000000</td>\n",
       "    </tr>\n",
       "  </tbody>\n",
       "</table>\n",
       "</div>"
      ],
      "text/plain": [
       "Q       0.0000    0.0625    0.1250    0.1875    0.2500    0.3125    0.3750  \\\n",
       "P                                                                            \n",
       "1.00  0.000373  0.000922  0.001594  0.002385  0.003293  0.004313  0.005442   \n",
       "1.25  0.000720  0.001701  0.002906  0.004327  0.005952  0.007772  0.009777   \n",
       "1.50  0.001340  0.003014  0.005066  0.007468  0.010196  0.013224  0.016528   \n",
       "1.75  0.002439  0.005216  0.008582  0.012476  0.016842  0.021628  0.026784   \n",
       "2.00  0.004390  0.008909  0.014286  0.020397  0.027133  0.034395  0.042094   \n",
       "2.25  0.007890  0.015142  0.023555  0.032897  0.042971  0.053610  0.064676   \n",
       "2.50  0.014268  0.025791  0.038724  0.052665  0.067300  0.082381  0.097715   \n",
       "2.75  0.026168  0.044311  0.063835  0.084126  0.104745  0.125383  0.145819   \n",
       "3.00  0.049110  0.077314  0.106106  0.134717  0.162682  0.189727  0.215705   \n",
       "3.25  0.095290  0.138028  0.178861  0.217269  0.253098  0.286384  0.317253   \n",
       "3.50  0.193741  0.254418  0.307722  0.354577  0.395906  0.432529  0.465148   \n",
       "3.75  0.420377  0.489754  0.544440  0.588616  0.625028  0.655546  0.681489   \n",
       "4.00  1.000000  1.000000  1.000000  1.000000  1.000000  1.000000  1.000000   \n",
       "\n",
       "Q       0.4375    0.5000  \n",
       "P                         \n",
       "1.00  0.006677  0.008014  \n",
       "1.25  0.011955  0.014297  \n",
       "1.50  0.020085  0.023873  \n",
       "1.75  0.032265  0.038031  \n",
       "2.00  0.050155  0.058509  \n",
       "2.25  0.076052  0.087642  \n",
       "2.50  0.113150  0.128571  \n",
       "2.75  0.165902  0.185528  \n",
       "3.00  0.240545  0.264227  \n",
       "3.25  0.345869  0.372412  \n",
       "3.50  0.494346  0.520611  \n",
       "3.75  0.703810  0.723216  \n",
       "4.00  1.000000  1.000000  "
      ]
     },
     "metadata": {},
     "output_type": "display_data"
    }
   ],
   "source": [
    "display(Markdown(f'''\n",
    "### 星岩再处理\n",
    "{convrate(T_b)}\n",
    "### 回收自身\n",
    "{convrate(T_R)}\n",
    "### 合-分式优化在不同$P,Q$下的转化率\n",
    "'''))\n",
    "display(df0)"
   ]
  },
  {
   "cell_type": "markdown",
   "id": "7e94dc9a-ce80-4d82-a7f4-9c808cf70c8a",
   "metadata": {},
   "source": [
    "### 分-合式优化\n",
    "  由之前的讨论可知，分-合式与合-分式刷品质的$K$完全一致，只在$b$上存在一个倍率差别。因此前者的总转化率也恰好比后者高$r_i = \\frac{np}{(1+30Q)P}$倍"
   ]
  },
  {
   "cell_type": "markdown",
   "id": "04d9f0ac-37dd-461c-93d6-a4d84b84ef98",
   "metadata": {},
   "source": [
    "### 对数据的讨论\n",
    "- 回收自身相当于$P = 1, Q = 0$时的合-分式优化，因此必然是转化率最低的方式\n",
    "- 星岩再处理的转化率，大约相当于产能P=1+80%~90%，使用4个传说质量插件(Q=25%)时的情况\n",
    "- 分-合式优化的总转化率固定比合-分式高$r_i = \\frac{np}{(1+30Q)P}$倍，其中$n$是合成传说级的机器上可增加的产能插件数. P_M = P时两种方式转化率相等.\n",
    "- 对分-合式优化而言，基础P越大，或者Q越大，则以传说产能插件(P+25%)替代传说品质插件(Q+6.25%)越能获得较大的的转化率提升（P,Q过小时的替换也可能造成转化率降低）。\n",
    "- 但对合-分式优化，由于基础P和Q增大使得$r_i$的分子减小（可增加的n减小了）而分母变大，可以预期总转化率提升比例小于分-合式优化。"
   ]
  },
  {
   "cell_type": "markdown",
   "id": "30cb640b-e997-4c13-9935-11542da2e38d",
   "metadata": {
    "jp-MarkdownHeadingCollapsed": true
   },
   "source": [
    "# 生产速率"
   ]
  },
  {
   "cell_type": "markdown",
   "id": "67f6200d-a4a1-4a22-a156-ba535d5d74d4",
   "metadata": {},
   "source": [
    "## 定义\n",
    "- 若在所有时刻有恒定1单位普通级的补充输入$X_i^+ = X^+ = \\begin{bmatrix} 1 & 0 & 0 & 0 & 0 \\end{bmatrix}$，由于系统是线性时不变的，故简单地有\n",
    "$$X_n = X_0^+ T^n + X_1^+ T^{n-1} + X_2^+ T^{n-2} ... + X_{n-1}^+ T$$\n",
    "  而对每一项$\\lim_{n \\to \\infty} X_i^+ T^{n-i} = \\begin{bmatrix} 0 & 0 & 0 & 0 & \\alpha \\end{bmatrix}$，故\n",
    "$$\\lim_{n \\to \\infty}\\frac{X_n}{n} = \\begin{bmatrix} 0 & 0 & 0 & 0 & \\alpha \\end{bmatrix}$$\n",
    "  即每周期的产出就是$\\alpha$\n",
    "\n",
    "- 因此，**定义**单位(传奇)产出所需的生产时间为$t = \\tau / \\alpha$, 生产速率为$v = 1/t = \\alpha / \\tau$, $\\tau$为单位输入$X^+$下的每周期耗时\n",
    "\n",
    "- 进一步，由于各阶生产和回收流程是并发的，故 $\\tau = \\max_{对每个工厂} (单位输入下该工厂要处理的物品)*(单位物品的处理时间)$，周期耗时只取决于总耗时最长的工厂\n",
    "- 故应求在恒定输入$X_i^+ = \\begin{bmatrix} 1 & 0 & 0 & 0 & 0 \\end{bmatrix}$下，传奇产物达到增长率达到恒定时，各阶工厂需处理的物品数"
   ]
  },
  {
   "cell_type": "markdown",
   "id": "a7cf101e-9977-4641-8593-7c8bc0cf84cd",
   "metadata": {},
   "source": [
    "## 单位输入下的处理量"
   ]
  },
  {
   "cell_type": "markdown",
   "id": "5c94c172-6cf7-4ac1-841e-0b61a9272c81",
   "metadata": {},
   "source": [
    "- 此时，若每周期从系统中带走$\\alpha$数量的传奇产物，系统状态应保持恒定：\n",
    "$$\\begin{cases}\n",
    "X_i^+ & = X^+ = \\begin{bmatrix} 1 & 0 & 0 & 0 & -\\alpha \\end{bmatrix} \\\\\n",
    "X_{i+1} & = X_i T + X_i^+ \\\\\n",
    "\\tilde{X} &= \\lim_{i \\to \\infty} X_i = \\lim_{i \\to \\infty} X_{i+1}\n",
    "\\end{cases}$$\n",
    "  故有\n",
    "$$ \\tilde{X}(I - T) = X^+ $$\n",
    "\n",
    "- (因$I - T$不可逆) 仍然将$T$按前4|第5行/列分块：\n",
    "$$ \\begin{bmatrix} \\tilde{X}_{1\\dots4} & x_5 \\end{bmatrix} \\begin{bmatrix} I - K_{4\\times4} & b_{4\\times1} \\\\ 0 & 1 - 1 \\end{bmatrix} = \\begin{bmatrix} 1 & 0 & 0 & 0 & \\alpha \\end{bmatrix} $$\n",
    "\n",
    "- $T$的上三角性决定了前4项的计算不包含第5项参与：\n",
    "$$\\begin{align*}\n",
    "\\tilde{X}_{1\\dots4} (I - K) & = \\begin{bmatrix} 1 & 0 & 0 & 0 \\end{bmatrix} \\\\\n",
    "\\tilde{X}_{1\\dots4} & = \\begin{bmatrix} 1 & 0 & 0 & 0 \\end{bmatrix} (I - K)^{-1}\n",
    "\\end{align*}$$\n",
    "\n",
    "**结论**：若每周期恒定给予1单位普通级原料，则输出稳定时1~4阶的工厂分别需处理\n",
    "$\\begin{bmatrix}\\tilde{x}_1 & \\tilde{x}_2 & \\tilde{x}_3 & \\tilde{x}_4 \\end{bmatrix} = \\begin{bmatrix} 1 & 0 & 0 & 0 \\end{bmatrix} (I - K)^{-1}$\n",
    "的数量"
   ]
  },
  {
   "cell_type": "markdown",
   "id": "2edbb9f2-7a5e-42d2-a847-a3644360d526",
   "metadata": {},
   "source": [
    "- 另一方面，同样由线性时不变性 $\\tilde{X} = \\lim_{n \\to \\infty} X_n = \\lim_{n \\to \\infty}(X_0^+ T^n + X_1^+ T^{n-1} + X_2^+ T^{n-2} ... + X_{n-1}^+ T) = X^+ \\lim_{n \\to \\infty} \\sum_{i=1}^{n} T^i$\n",
    "\n",
    "  等价于只有初始激励$X_0' = X^+$的系统在此后所有时刻的输出求和 $\\lim_{n \\to \\infty} \\sum_{i=1}^{n} X_i' = \\lim_{n \\to \\infty} X_0' \\sum_{i=1}^{n} T^i = \\tilde{X} $\n",
    "\n",
    "- 特别地，对$\\tilde{X}$ 每一位上的元素，有 $\\tilde{X}[j] = \\lim_{n \\to \\infty} \\sum_{i=1}^{n} X_i'[j],\\ j = 1 \\dots 4$"
   ]
  },
  {
   "cell_type": "markdown",
   "id": "998a2418-6dc5-4057-a641-70830d1098a8",
   "metadata": {
    "jp-MarkdownHeadingCollapsed": true
   },
   "source": [
    "### 试证明 $\\tilde{X}[1] = \\max(\\tilde{X})$\n",
    "- 但一般情形下此式似乎不一定成立。只能证明在中间工厂配置一样($K$具有右下方向的平移不变性)的情况下具有此特性。"
   ]
  },
  {
   "cell_type": "markdown",
   "id": "1286b642-2240-4bb0-bc82-4eb3b0c72eeb",
   "metadata": {},
   "source": [
    "- 此时，$K_{i+1,j+1} = K_{i,j}$, 因此\n",
    "$$ \\begin{cases} X_{i+1}[j] = k_1 X{i}[j] \\\\ X_{i+1}[j+1] = k_1 X_{i+1}[j+1] + k_2 X{i}[j] \\end{cases} $$ 对所有$i,j$都有同样的常数$k_1,k_2$且$k_2 < 1 - k_1$\n",
    "\n",
    "- 设 $y_i = X_i'[1], z_i = X_i'[2]$, 则初始 $y_0 = 1, z_0 = 0$, 递推地有\n",
    "$$\\begin{align*}\n",
    "y_n & = k_1 y_{n-1} = k_1^n y_0 = k_1^n \\\\\n",
    "z_n & = k_1 z_{n-1} + k_2 y_{n-1} \\\\\n",
    " & = k_1 (k_1 z_{n-2} + k_2 y_{n-2}) + k_2 k_1^{n-1} y_0 \\\\\n",
    " & = k_1^2 (z_{n-3} + k_2 y_{n-3}) + k_1 k_2 k_1^{n-2} y_0 + k_2 k_1^{n-1} y_0 \\\\\n",
    " & \\dots \\\\\n",
    " & = k_1^n z_0 + n k_2 k_1^{n-1} y_0 = n k_2 k_1^{n-1} \\\\\n",
    " \\\\\n",
    "\\sum_{i=0}^{n} y_i &= \\frac{1 - k_1^{n+1}}{1 - k_1} \\\\\n",
    "\\sum_{i=0}^{n} z_i &= k_2 \\sum_{i=1}^{n} i k_1^{i-1} \n",
    "= k_2 \\frac{\\sum_{i=1}^{n} k_1^{i-1} - n k_1^n}{1-k_1} \n",
    "= k_2 \\frac{\\frac{1-k_1^n}{1-k_1} - n k_1^n}{1-k_1} \\\\\n",
    "& < (1 - k_1) \\frac{\\frac{1-k_1^n}{1-k_1} - n k_1^n}{1-k_1}\n",
    "  < \\frac{1-k_1^n}{1-k_1} = \\sum_{i=0}^{n-1} y_i \\\\\n",
    "\\\\\n",
    "\\therefore \\  \\lim_{n \\to \\infty} \\sum_{i=1}^{n} z_i & \\le \\lim_{n \\to \\infty} \\sum_{i=1}^{n-1} y_i \\\\\n",
    " \\tilde{X}[2] & \\le \\tilde{X}[1]\n",
    "\\end{align*}$$"
   ]
  },
  {
   "cell_type": "markdown",
   "id": "df38cda7-fcfe-433c-87b3-597e8454d32f",
   "metadata": {},
   "source": [
    "- 同理可证$\\tilde{X}[3] \\le \\tilde{X}[1], \\tilde{X}[4] \\le \\tilde{X}[1]$（将$X_{i+1}[1] \\overset{k_2}{\\rightarrow} X_{i+1}[2]  \\overset{k_2}{\\rightarrow} X_{i+1}[3] (\\overset{k_2}{\\rightarrow} X_{i+1}[4])$ 多次转移的效应等效为一步即可）"
   ]
  },
  {
   "cell_type": "markdown",
   "id": "3cb0fac1-27cc-4ee3-9592-a473b62e46fe",
   "metadata": {},
   "source": [
    "## 单位物品的处理时间\n",
    "- 由于总可以通过增加工厂的方式增加绝对生产速度，因此在此只讨论每个品质等级都只用1个工厂时的情况\n",
    "- 每个合成配方有各自基础的合成时间，除以对应的原料/产物数，可得单位输入所需合成时间$\\tau_0$\n",
    "- 不同工厂有不同基础速度倍率$k_f$\n",
    "- 工厂本身的品质每提升一级，基础速度倍率增加30%（传说级加到150%），设这个加成为$k_l$\n",
    "- 每使用一个品质插件3，减少5%；每使用一个产能插件3，减少15%；但总计最低不会低于20%。因此这个加成为 $k_m = max(1 - 0.05 n_1 - 0.15 n_2, 0.2)$\n",
    "- 则实际单位输入处理时间为 $\\tau = {\\tau_0}/{k_f k_l k_m} $, 只考虑插件的影响$\\tau = {\\tau_f}/{k_m}$"
   ]
  },
  {
   "cell_type": "markdown",
   "id": "a807414a-57ed-4502-b479-0dbd0f101d81",
   "metadata": {},
   "source": [
    "## 具体计算"
   ]
  },
  {
   "cell_type": "markdown",
   "id": "9a2c2c24-c852-49a8-8b48-36ccfd83e17d",
   "metadata": {},
   "source": [
    "### 单位输入下所需最大处理量\n",
    "- 记作${Items}_{max}$\n",
    "- 注意合-分式中此量为待合成的原料数，其它情况下都是待分解的产物数"
   ]
  },
  {
   "cell_type": "code",
   "execution_count": 77,
   "id": "a964b627-695e-45e7-aee7-62de51942be4",
   "metadata": {},
   "outputs": [],
   "source": [
    "miditems = lambda T: (sp.eye(4) - T[0:4,0:4]).inv()[0,:]"
   ]
  },
  {
   "cell_type": "code",
   "execution_count": 78,
   "id": "65beb2f0-41f7-489c-a281-8fef9dc8b159",
   "metadata": {},
   "outputs": [],
   "source": [
    "# Given: Ps, Qs, indices, invs\n",
    "data = [np.array(invs[i][0,:], dtype=np.float64).flatten() for i, (P, Q) in enumerate(indices)]\n",
    "df1 = pd.DataFrame(data, index=indices, columns=[f'X{i}' for i in range(1, 5)])"
   ]
  },
  {
   "cell_type": "code",
   "execution_count": 79,
   "id": "d3ab3be7-ef96-4206-b2f5-2999454560b4",
   "metadata": {},
   "outputs": [],
   "source": [
    "df11 = df1.reset_index().pivot(index='P', columns='Q', values='X1')"
   ]
  },
  {
   "cell_type": "code",
   "execution_count": 80,
   "id": "5728659a-b365-4147-a498-295e123f3c87",
   "metadata": {},
   "outputs": [
    {
     "data": {
      "text/markdown": [
       "\n",
       "### 星岩再处理\n",
       "$\\left[\\begin{matrix}3.33333333333333 & 1.0 & 0.4 & 0.16\\end{matrix}\\right]$\n",
       "### 回收自身\n",
       "$\\left[\\begin{matrix}1.23076923076923 & 0.085207100591716 & 0.0144196631770596 & 0.0024402506915024\\end{matrix}\\right]$\n",
       "### 合-分/分-合\n",
       "- 如前所述，所有中间工厂配置都相同时，普通级工厂处理量便是最大，因此只展示普通级的量\n"
      ],
      "text/plain": [
       "<IPython.core.display.Markdown object>"
      ]
     },
     "metadata": {},
     "output_type": "display_data"
    },
    {
     "data": {
      "text/html": [
       "<div>\n",
       "<style scoped>\n",
       "    .dataframe tbody tr th:only-of-type {\n",
       "        vertical-align: middle;\n",
       "    }\n",
       "\n",
       "    .dataframe tbody tr th {\n",
       "        vertical-align: top;\n",
       "    }\n",
       "\n",
       "    .dataframe thead th {\n",
       "        text-align: right;\n",
       "    }\n",
       "</style>\n",
       "<table border=\"1\" class=\"dataframe\">\n",
       "  <thead>\n",
       "    <tr style=\"text-align: right;\">\n",
       "      <th>Q</th>\n",
       "      <th>0.0000</th>\n",
       "      <th>0.0625</th>\n",
       "      <th>0.1250</th>\n",
       "      <th>0.1875</th>\n",
       "      <th>0.2500</th>\n",
       "      <th>0.3125</th>\n",
       "      <th>0.3750</th>\n",
       "      <th>0.4375</th>\n",
       "      <th>0.5000</th>\n",
       "    </tr>\n",
       "    <tr>\n",
       "      <th>P</th>\n",
       "      <th></th>\n",
       "      <th></th>\n",
       "      <th></th>\n",
       "      <th></th>\n",
       "      <th></th>\n",
       "      <th></th>\n",
       "      <th></th>\n",
       "      <th></th>\n",
       "      <th></th>\n",
       "    </tr>\n",
       "  </thead>\n",
       "  <tbody>\n",
       "    <tr>\n",
       "      <th>1.00</th>\n",
       "      <td>1.230769</td>\n",
       "      <td>1.213270</td>\n",
       "      <td>1.196262</td>\n",
       "      <td>1.179724</td>\n",
       "      <td>1.163636</td>\n",
       "      <td>1.147982</td>\n",
       "      <td>1.132743</td>\n",
       "      <td>1.117904</td>\n",
       "      <td>1.103448</td>\n",
       "    </tr>\n",
       "    <tr>\n",
       "      <th>1.25</th>\n",
       "      <td>1.306122</td>\n",
       "      <td>1.281602</td>\n",
       "      <td>1.257985</td>\n",
       "      <td>1.235223</td>\n",
       "      <td>1.213270</td>\n",
       "      <td>1.192084</td>\n",
       "      <td>1.171625</td>\n",
       "      <td>1.151856</td>\n",
       "      <td>1.132743</td>\n",
       "    </tr>\n",
       "    <tr>\n",
       "      <th>1.50</th>\n",
       "      <td>1.391304</td>\n",
       "      <td>1.358090</td>\n",
       "      <td>1.326425</td>\n",
       "      <td>1.296203</td>\n",
       "      <td>1.267327</td>\n",
       "      <td>1.239709</td>\n",
       "      <td>1.213270</td>\n",
       "      <td>1.187935</td>\n",
       "      <td>1.163636</td>\n",
       "    </tr>\n",
       "    <tr>\n",
       "      <th>1.75</th>\n",
       "      <td>1.488372</td>\n",
       "      <td>1.444288</td>\n",
       "      <td>1.402740</td>\n",
       "      <td>1.363515</td>\n",
       "      <td>1.326425</td>\n",
       "      <td>1.291299</td>\n",
       "      <td>1.257985</td>\n",
       "      <td>1.226347</td>\n",
       "      <td>1.196262</td>\n",
       "    </tr>\n",
       "    <tr>\n",
       "      <th>2.00</th>\n",
       "      <td>1.600000</td>\n",
       "      <td>1.542169</td>\n",
       "      <td>1.488372</td>\n",
       "      <td>1.438202</td>\n",
       "      <td>1.391304</td>\n",
       "      <td>1.347368</td>\n",
       "      <td>1.306122</td>\n",
       "      <td>1.267327</td>\n",
       "      <td>1.230769</td>\n",
       "    </tr>\n",
       "    <tr>\n",
       "      <th>2.25</th>\n",
       "      <td>1.729730</td>\n",
       "      <td>1.654281</td>\n",
       "      <td>1.585139</td>\n",
       "      <td>1.521545</td>\n",
       "      <td>1.462857</td>\n",
       "      <td>1.408528</td>\n",
       "      <td>1.358090</td>\n",
       "      <td>1.311140</td>\n",
       "      <td>1.267327</td>\n",
       "    </tr>\n",
       "    <tr>\n",
       "      <th>2.50</th>\n",
       "      <td>1.882353</td>\n",
       "      <td>1.783972</td>\n",
       "      <td>1.695364</td>\n",
       "      <td>1.615142</td>\n",
       "      <td>1.542169</td>\n",
       "      <td>1.475504</td>\n",
       "      <td>1.414365</td>\n",
       "      <td>1.358090</td>\n",
       "      <td>1.306122</td>\n",
       "    </tr>\n",
       "    <tr>\n",
       "      <th>2.75</th>\n",
       "      <td>2.064516</td>\n",
       "      <td>1.935728</td>\n",
       "      <td>1.822064</td>\n",
       "      <td>1.721008</td>\n",
       "      <td>1.630573</td>\n",
       "      <td>1.549168</td>\n",
       "      <td>1.475504</td>\n",
       "      <td>1.408528</td>\n",
       "      <td>1.347368</td>\n",
       "    </tr>\n",
       "    <tr>\n",
       "      <th>3.00</th>\n",
       "      <td>2.285714</td>\n",
       "      <td>2.115702</td>\n",
       "      <td>1.969231</td>\n",
       "      <td>1.841727</td>\n",
       "      <td>1.729730</td>\n",
       "      <td>1.630573</td>\n",
       "      <td>1.542169</td>\n",
       "      <td>1.462857</td>\n",
       "      <td>1.391304</td>\n",
       "    </tr>\n",
       "    <tr>\n",
       "      <th>3.25</th>\n",
       "      <td>2.560000</td>\n",
       "      <td>2.332574</td>\n",
       "      <td>2.142259</td>\n",
       "      <td>1.980658</td>\n",
       "      <td>1.841727</td>\n",
       "      <td>1.721008</td>\n",
       "      <td>1.615142</td>\n",
       "      <td>1.521545</td>\n",
       "      <td>1.438202</td>\n",
       "    </tr>\n",
       "    <tr>\n",
       "      <th>3.50</th>\n",
       "      <td>2.909091</td>\n",
       "      <td>2.598985</td>\n",
       "      <td>2.348624</td>\n",
       "      <td>2.142259</td>\n",
       "      <td>1.969231</td>\n",
       "      <td>1.822064</td>\n",
       "      <td>1.695364</td>\n",
       "      <td>1.585139</td>\n",
       "      <td>1.488372</td>\n",
       "    </tr>\n",
       "    <tr>\n",
       "      <th>3.75</th>\n",
       "      <td>3.368421</td>\n",
       "      <td>2.934097</td>\n",
       "      <td>2.598985</td>\n",
       "      <td>2.332574</td>\n",
       "      <td>2.115702</td>\n",
       "      <td>1.935728</td>\n",
       "      <td>1.783972</td>\n",
       "      <td>1.654281</td>\n",
       "      <td>1.542169</td>\n",
       "    </tr>\n",
       "    <tr>\n",
       "      <th>4.00</th>\n",
       "      <td>4.000000</td>\n",
       "      <td>3.368421</td>\n",
       "      <td>2.909091</td>\n",
       "      <td>2.560000</td>\n",
       "      <td>2.285714</td>\n",
       "      <td>2.064516</td>\n",
       "      <td>1.882353</td>\n",
       "      <td>1.729730</td>\n",
       "      <td>1.600000</td>\n",
       "    </tr>\n",
       "  </tbody>\n",
       "</table>\n",
       "</div>"
      ],
      "text/plain": [
       "Q       0.0000    0.0625    0.1250    0.1875    0.2500    0.3125    0.3750  \\\n",
       "P                                                                            \n",
       "1.00  1.230769  1.213270  1.196262  1.179724  1.163636  1.147982  1.132743   \n",
       "1.25  1.306122  1.281602  1.257985  1.235223  1.213270  1.192084  1.171625   \n",
       "1.50  1.391304  1.358090  1.326425  1.296203  1.267327  1.239709  1.213270   \n",
       "1.75  1.488372  1.444288  1.402740  1.363515  1.326425  1.291299  1.257985   \n",
       "2.00  1.600000  1.542169  1.488372  1.438202  1.391304  1.347368  1.306122   \n",
       "2.25  1.729730  1.654281  1.585139  1.521545  1.462857  1.408528  1.358090   \n",
       "2.50  1.882353  1.783972  1.695364  1.615142  1.542169  1.475504  1.414365   \n",
       "2.75  2.064516  1.935728  1.822064  1.721008  1.630573  1.549168  1.475504   \n",
       "3.00  2.285714  2.115702  1.969231  1.841727  1.729730  1.630573  1.542169   \n",
       "3.25  2.560000  2.332574  2.142259  1.980658  1.841727  1.721008  1.615142   \n",
       "3.50  2.909091  2.598985  2.348624  2.142259  1.969231  1.822064  1.695364   \n",
       "3.75  3.368421  2.934097  2.598985  2.332574  2.115702  1.935728  1.783972   \n",
       "4.00  4.000000  3.368421  2.909091  2.560000  2.285714  2.064516  1.882353   \n",
       "\n",
       "Q       0.4375    0.5000  \n",
       "P                         \n",
       "1.00  1.117904  1.103448  \n",
       "1.25  1.151856  1.132743  \n",
       "1.50  1.187935  1.163636  \n",
       "1.75  1.226347  1.196262  \n",
       "2.00  1.267327  1.230769  \n",
       "2.25  1.311140  1.267327  \n",
       "2.50  1.358090  1.306122  \n",
       "2.75  1.408528  1.347368  \n",
       "3.00  1.462857  1.391304  \n",
       "3.25  1.521545  1.438202  \n",
       "3.50  1.585139  1.488372  \n",
       "3.75  1.654281  1.542169  \n",
       "4.00  1.729730  1.600000  "
      ]
     },
     "metadata": {},
     "output_type": "display_data"
    }
   ],
   "source": [
    "display(Markdown(f'''\n",
    "### 星岩再处理\n",
    "${sp.latex(miditems(T_b))}$\n",
    "### 回收自身\n",
    "${sp.latex(miditems(T_R))}$\n",
    "### 合-分/分-合\n",
    "- 如前所述，所有中间工厂配置都相同时，普通级工厂处理量便是最大，因此只展示普通级的量\n",
    "'''))\n",
    "display(df11)"
   ]
  },
  {
   "cell_type": "markdown",
   "id": "a22a527e-2f31-4017-bf5a-faeffe5f58af",
   "metadata": {},
   "source": [
    "### 单位产出所需最大处理量\n",
    "- 等于 ${{Items}_{max}} / {\\alpha}$\n",
    "- 此量的意义在于：传奇产物的生产效率$v = \\alpha / \\tau = \\frac{\\alpha}{{Items}_{max}} \\frac{k_f k_l k_m}{\\tau_0}$, 正比于工厂总生产速率和插件效率加成，而反比于此量。"
   ]
  },
  {
   "cell_type": "code",
   "execution_count": 76,
   "id": "b3d4a3ab-d847-4a47-affb-28a1b43eddfc",
   "metadata": {},
   "outputs": [
    {
     "data": {
      "text/markdown": [
       "\n",
       "### 星岩再处理\n",
       "$\\left[\\begin{matrix}156.25 & 46.875 & 18.75 & 7.5\\end{matrix}\\right]$\n",
       "### 回收自身\n",
       "$\\left[\\begin{matrix}3301.27723516153 & 228.54996243426 & 38.6776859504132 & 6.54545454545454\\end{matrix}\\right]$\n",
       "### 合-分/分-合\n",
       "- 仍然是以普通级计算\n"
      ],
      "text/plain": [
       "<IPython.core.display.Markdown object>"
      ]
     },
     "metadata": {},
     "output_type": "display_data"
    },
    {
     "data": {
      "text/html": [
       "<div>\n",
       "<style scoped>\n",
       "    .dataframe tbody tr th:only-of-type {\n",
       "        vertical-align: middle;\n",
       "    }\n",
       "\n",
       "    .dataframe tbody tr th {\n",
       "        vertical-align: top;\n",
       "    }\n",
       "\n",
       "    .dataframe thead th {\n",
       "        text-align: right;\n",
       "    }\n",
       "</style>\n",
       "<table border=\"1\" class=\"dataframe\">\n",
       "  <thead>\n",
       "    <tr style=\"text-align: right;\">\n",
       "      <th>Q</th>\n",
       "      <th>0.0000</th>\n",
       "      <th>0.0625</th>\n",
       "      <th>0.1250</th>\n",
       "      <th>0.1875</th>\n",
       "      <th>0.2500</th>\n",
       "      <th>0.3125</th>\n",
       "      <th>0.3750</th>\n",
       "      <th>0.4375</th>\n",
       "      <th>0.5000</th>\n",
       "    </tr>\n",
       "    <tr>\n",
       "      <th>P</th>\n",
       "      <th></th>\n",
       "      <th></th>\n",
       "      <th></th>\n",
       "      <th></th>\n",
       "      <th></th>\n",
       "      <th></th>\n",
       "      <th></th>\n",
       "      <th></th>\n",
       "      <th></th>\n",
       "    </tr>\n",
       "  </thead>\n",
       "  <tbody>\n",
       "    <tr>\n",
       "      <th>1.00</th>\n",
       "      <td>3301.277235</td>\n",
       "      <td>1315.966730</td>\n",
       "      <td>750.600316</td>\n",
       "      <td>494.626573</td>\n",
       "      <td>353.402769</td>\n",
       "      <td>266.168371</td>\n",
       "      <td>208.132029</td>\n",
       "      <td>167.420210</td>\n",
       "      <td>137.696634</td>\n",
       "    </tr>\n",
       "    <tr>\n",
       "      <th>1.25</th>\n",
       "      <td>1813.070322</td>\n",
       "      <td>753.598127</td>\n",
       "      <td>432.891674</td>\n",
       "      <td>285.496515</td>\n",
       "      <td>203.837343</td>\n",
       "      <td>153.375080</td>\n",
       "      <td>119.837564</td>\n",
       "      <td>96.348242</td>\n",
       "      <td>79.227881</td>\n",
       "    </tr>\n",
       "    <tr>\n",
       "      <th>1.50</th>\n",
       "      <td>1038.250667</td>\n",
       "      <td>450.559487</td>\n",
       "      <td>261.851523</td>\n",
       "      <td>173.567042</td>\n",
       "      <td>124.298071</td>\n",
       "      <td>93.747105</td>\n",
       "      <td>73.406546</td>\n",
       "      <td>59.145390</td>\n",
       "      <td>48.743571</td>\n",
       "    </tr>\n",
       "    <tr>\n",
       "      <th>1.75</th>\n",
       "      <td>610.337009</td>\n",
       "      <td>276.887277</td>\n",
       "      <td>163.454427</td>\n",
       "      <td>109.290825</td>\n",
       "      <td>78.755520</td>\n",
       "      <td>59.705148</td>\n",
       "      <td>46.967821</td>\n",
       "      <td>38.008107</td>\n",
       "      <td>31.454941</td>\n",
       "    </tr>\n",
       "    <tr>\n",
       "      <th>2.00</th>\n",
       "      <td>364.431487</td>\n",
       "      <td>173.102095</td>\n",
       "      <td>104.185855</td>\n",
       "      <td>70.508937</td>\n",
       "      <td>51.276486</td>\n",
       "      <td>39.173583</td>\n",
       "      <td>31.028439</td>\n",
       "      <td>25.268203</td>\n",
       "      <td>21.035498</td>\n",
       "    </tr>\n",
       "    <tr>\n",
       "      <th>2.25</th>\n",
       "      <td>219.228299</td>\n",
       "      <td>109.249663</td>\n",
       "      <td>67.293976</td>\n",
       "      <td>46.251332</td>\n",
       "      <td>34.043009</td>\n",
       "      <td>26.273570</td>\n",
       "      <td>20.998392</td>\n",
       "      <td>17.239997</td>\n",
       "      <td>14.460235</td>\n",
       "    </tr>\n",
       "    <tr>\n",
       "      <th>2.50</th>\n",
       "      <td>131.932463</td>\n",
       "      <td>69.170550</td>\n",
       "      <td>43.781160</td>\n",
       "      <td>30.668134</td>\n",
       "      <td>22.914794</td>\n",
       "      <td>17.910717</td>\n",
       "      <td>14.474441</td>\n",
       "      <td>12.002543</td>\n",
       "      <td>10.158750</td>\n",
       "    </tr>\n",
       "    <tr>\n",
       "      <th>2.75</th>\n",
       "      <td>78.893698</td>\n",
       "      <td>43.684881</td>\n",
       "      <td>28.543410</td>\n",
       "      <td>20.457615</td>\n",
       "      <td>15.567052</td>\n",
       "      <td>12.355532</td>\n",
       "      <td>10.118758</td>\n",
       "      <td>8.490140</td>\n",
       "      <td>7.262347</td>\n",
       "    </tr>\n",
       "    <tr>\n",
       "      <th>3.00</th>\n",
       "      <td>46.543185</td>\n",
       "      <td>27.365044</td>\n",
       "      <td>18.559072</td>\n",
       "      <td>13.671054</td>\n",
       "      <td>10.632590</td>\n",
       "      <td>8.594294</td>\n",
       "      <td>7.149438</td>\n",
       "      <td>6.081439</td>\n",
       "      <td>5.265556</td>\n",
       "    </tr>\n",
       "    <tr>\n",
       "      <th>3.25</th>\n",
       "      <td>26.865295</td>\n",
       "      <td>16.899241</td>\n",
       "      <td>11.977206</td>\n",
       "      <td>9.116167</td>\n",
       "      <td>7.276732</td>\n",
       "      <td>6.009442</td>\n",
       "      <td>5.091030</td>\n",
       "      <td>4.399195</td>\n",
       "      <td>3.861860</td>\n",
       "    </tr>\n",
       "    <tr>\n",
       "      <th>3.50</th>\n",
       "      <td>15.015328</td>\n",
       "      <td>10.215397</td>\n",
       "      <td>7.632280</td>\n",
       "      <td>6.041731</td>\n",
       "      <td>4.973992</td>\n",
       "      <td>4.212581</td>\n",
       "      <td>3.644788</td>\n",
       "      <td>3.206539</td>\n",
       "      <td>2.858894</td>\n",
       "    </tr>\n",
       "    <tr>\n",
       "      <th>3.75</th>\n",
       "      <td>8.012856</td>\n",
       "      <td>5.990959</td>\n",
       "      <td>4.773684</td>\n",
       "      <td>3.962809</td>\n",
       "      <td>3.384972</td>\n",
       "      <td>2.952847</td>\n",
       "      <td>2.617756</td>\n",
       "      <td>2.350466</td>\n",
       "      <td>2.132378</td>\n",
       "    </tr>\n",
       "    <tr>\n",
       "      <th>4.00</th>\n",
       "      <td>4.000000</td>\n",
       "      <td>3.368421</td>\n",
       "      <td>2.909091</td>\n",
       "      <td>2.560000</td>\n",
       "      <td>2.285714</td>\n",
       "      <td>2.064516</td>\n",
       "      <td>1.882353</td>\n",
       "      <td>1.729730</td>\n",
       "      <td>1.600000</td>\n",
       "    </tr>\n",
       "  </tbody>\n",
       "</table>\n",
       "</div>"
      ],
      "text/plain": [
       "Q          0.0000       0.0625      0.1250      0.1875      0.2500  \\\n",
       "P                                                                    \n",
       "1.00  3301.277235  1315.966730  750.600316  494.626573  353.402769   \n",
       "1.25  1813.070322   753.598127  432.891674  285.496515  203.837343   \n",
       "1.50  1038.250667   450.559487  261.851523  173.567042  124.298071   \n",
       "1.75   610.337009   276.887277  163.454427  109.290825   78.755520   \n",
       "2.00   364.431487   173.102095  104.185855   70.508937   51.276486   \n",
       "2.25   219.228299   109.249663   67.293976   46.251332   34.043009   \n",
       "2.50   131.932463    69.170550   43.781160   30.668134   22.914794   \n",
       "2.75    78.893698    43.684881   28.543410   20.457615   15.567052   \n",
       "3.00    46.543185    27.365044   18.559072   13.671054   10.632590   \n",
       "3.25    26.865295    16.899241   11.977206    9.116167    7.276732   \n",
       "3.50    15.015328    10.215397    7.632280    6.041731    4.973992   \n",
       "3.75     8.012856     5.990959    4.773684    3.962809    3.384972   \n",
       "4.00     4.000000     3.368421    2.909091    2.560000    2.285714   \n",
       "\n",
       "Q         0.3125      0.3750      0.4375      0.5000  \n",
       "P                                                     \n",
       "1.00  266.168371  208.132029  167.420210  137.696634  \n",
       "1.25  153.375080  119.837564   96.348242   79.227881  \n",
       "1.50   93.747105   73.406546   59.145390   48.743571  \n",
       "1.75   59.705148   46.967821   38.008107   31.454941  \n",
       "2.00   39.173583   31.028439   25.268203   21.035498  \n",
       "2.25   26.273570   20.998392   17.239997   14.460235  \n",
       "2.50   17.910717   14.474441   12.002543   10.158750  \n",
       "2.75   12.355532   10.118758    8.490140    7.262347  \n",
       "3.00    8.594294    7.149438    6.081439    5.265556  \n",
       "3.25    6.009442    5.091030    4.399195    3.861860  \n",
       "3.50    4.212581    3.644788    3.206539    2.858894  \n",
       "3.75    2.952847    2.617756    2.350466    2.132378  \n",
       "4.00    2.064516    1.882353    1.729730    1.600000  "
      ]
     },
     "metadata": {},
     "output_type": "display_data"
    }
   ],
   "source": [
    "display(Markdown(f'''\n",
    "### 星岩再处理\n",
    "${sp.latex(miditems(T_b) / convrate(T_b))}$\n",
    "### 回收自身\n",
    "${sp.latex(miditems(T_R) / convrate(T_R))}$\n",
    "### 合-分/分-合\n",
    "- 仍然是以普通级计算\n",
    "'''))\n",
    "display(df11/df0)"
   ]
  },
  {
   "cell_type": "code",
   "execution_count": null,
   "id": "a67c4f32-e870-413c-84e0-d3817bf0c0f5",
   "metadata": {},
   "outputs": [],
   "source": []
  }
 ],
 "metadata": {
  "kernelspec": {
   "display_name": "Python 3 (ipykernel)",
   "language": "python",
   "name": "python3"
  },
  "language_info": {
   "codemirror_mode": {
    "name": "ipython",
    "version": 3
   },
   "file_extension": ".py",
   "mimetype": "text/x-python",
   "name": "python",
   "nbconvert_exporter": "python",
   "pygments_lexer": "ipython3",
   "version": "3.12.3"
  }
 },
 "nbformat": 4,
 "nbformat_minor": 5
}
