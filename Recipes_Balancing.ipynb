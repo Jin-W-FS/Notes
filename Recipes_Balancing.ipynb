{
 "cells": [
  {
   "cell_type": "markdown",
   "id": "7655e87d-010b-4eb9-8a3a-019d19667098",
   "metadata": {},
   "source": [
    "# Factorio配方配平建模"
   ]
  },
  {
   "cell_type": "code",
   "execution_count": 1,
   "id": "5780e5dd-b613-4c11-9304-6267bb4eb84c",
   "metadata": {},
   "outputs": [],
   "source": [
    "import numpy as np\n",
    "from scipy import optimize as op\n",
    "import sympy as sp\n",
    "import pandas as pd\n",
    "from IPython.display import display, Image, Math, Markdown\n",
    "\n",
    "np.set_printoptions(precision=6, suppress=True, floatmode='maxprec')\n",
    "pd.set_option('display.precision', 2)"
   ]
  },
  {
   "cell_type": "markdown",
   "id": "8421ec87-5bb6-4634-b562-07f38c8d467f",
   "metadata": {},
   "source": [
    "# 数学模型\n",
    "- 每个配方均可写成向量 $V_i = -a_i \\cdot \\langle x_i \\rangle + b_i \\cdot \\langle y_i \\rangle$ 的形式，其中基向量$\\langle x_i \\rangle$为原料，$\\langle y_i \\rangle$为产物，系数向量$a_i,b_i$每项均大于等于0\n",
    "- 则系统总输入输出可写成各个配方的线性组合 $S = \\sum k_i V_i, k_i \\ge 0$ \n",
    "- 重新定义基向量$\\langle y \\rangle = \\cup \\langle y_i \\rangle, \\langle x \\rangle = \\cup \\langle x_i \\rangle - \\langle y \\rangle$，并以此重写每个配方向量$V_i = -a_i \\cdot \\langle x \\rangle + b_i \\cdot \\langle y \\rangle$ 和总输入输出 $S = \\sum k_i V_i = -\\sum k_i a_i \\cdot \\langle x \\rangle + \\sum k_i b_i \\cdot \\langle y \\rangle = -A_K \\cdot \\langle x \\rangle + B_K \\cdot \\langle y \\rangle$\n",
    "- 则配平目标可写为最优化系数向量$\\mathop{\\arg\\min}_{\\{k_i\\}}(K+\\lambda_1 A_K + \\lambda_2 B_K)$，约束条件$B_K \\ge B_0, A_K \\ge 0, K \\ge 0$，其中$B_0$为系统所需的最小产出\n",
    "- 写为$\\langle x, y \\rangle$上的矩阵形式：\n",
    "$$ \n",
    "\\begin{align}\n",
    "V & = \\begin{bmatrix} -A | B \\end{bmatrix} \\\\\n",
    "S = K^T \\cdot V & = \\begin{bmatrix} -K^T \\cdot A | K^T \\cdot B \\end{bmatrix}\n",
    "\\end{align}\n",
    "$$\n",
    "则\n",
    "$$\n",
    "\\begin{align}\n",
    "K_{target} & = \\mathop{\\arg\\min}_{K}(\\lambda_0 K + \\lambda_1 A^T K + \\lambda_2 B^T K), given \\\\\n",
    "-A^T K & \\le 0 \\\\\n",
    "-B^T K & \\le B_0 \\\\\n",
    "0 & \\le K \\\\\n",
    "\\end{align}\n",
    "$$"
   ]
  },
  {
   "cell_type": "markdown",
   "id": "b05b9800-0614-4fb6-b6a6-689a61a964f2",
   "metadata": {},
   "source": [
    "# 实例"
   ]
  },
  {
   "cell_type": "markdown",
   "id": "5a7e70be-f99f-4564-ba59-bc2863a1fb54",
   "metadata": {},
   "source": [
    "## 1. 石油工业平衡问题\n",
    "设\n",
    "$$\\langle x \\rangle = \\langle 原油,水 \\rangle, \\langle y \\rangle = \\langle 重油,轻油,天然气 \\rangle $$\n",
    "已知各配方（工厂）每秒基础产量\n",
    "$$\n",
    "V = \\begin{bmatrix} 高等原油处理 \\\\ 重油分解 \\\\ 轻油分解 \\end{bmatrix} =\n",
    "\\begin{bmatrix}\n",
    " -20 & -10 & 5 & 9 & 11 \\\\\n",
    " 0 & -15 & -20 & 15 & 0 \\\\\n",
    " 0 & -15 & 0 & -15 & 10\n",
    "\\end{bmatrix} \\cdot \\langle x, y \\rangle\n",
    "$$\n",
    "设每秒至少需输出 $B_0 = \\begin{bmatrix} 10 & 10 & 40 \\end{bmatrix} \\cdot \\langle y \\rangle$，求各配方的倍率（工厂数量）$K = \\begin{bmatrix} k_1, k_2, k_3 \\end{bmatrix}$:"
   ]
  },
  {
   "cell_type": "code",
   "execution_count": 76,
   "id": "da4ab1b3-1201-4a9a-bb1d-9b5473b7fab6",
   "metadata": {},
   "outputs": [],
   "source": [
    "A = np.array([[20,10],[0,15],[0,15]])\n",
    "B = np.array([[5, 9, 11],[-20,15,0],[0,-15,10]])\n",
    "A_ub = -np.vstack([A.T, B.T])\n",
    "b_ub = -np.array([0, 0, 10, 10, 40])"
   ]
  },
  {
   "cell_type": "code",
   "execution_count": 77,
   "id": "812ce3a3-7a0f-4803-839e-52c8b81c8eeb",
   "metadata": {},
   "outputs": [
    {
     "name": "stdout",
     "output_type": "stream",
     "text": [
      "倍率：[3.636364 0.       0.      ]\n",
      "原料：[72.727273 36.363636]\n",
      "产物：[18.181818 32.727273 40.      ]\n"
     ]
    }
   ],
   "source": [
    "c = np.array([1,1,1]) # c = \\lambda_0，工厂数最小\n",
    "K = op.linprog(c, A_ub, b_ub)\n",
    "print(f'倍率：{K.x}\\n原料：{A.T.dot(K.x)}\\n产物：{B.T.dot(K.x)}')"
   ]
  },
  {
   "cell_type": "code",
   "execution_count": 78,
   "id": "e2df1a6f-0c8d-4a8b-afc8-3172f177c551",
   "metadata": {},
   "outputs": [
    {
     "name": "stdout",
     "output_type": "stream",
     "text": [
      "倍率：[2.649573 0.162393 1.08547 ]\n",
      "原料：[52.991453 45.213675]\n",
      "产物：[10. 10. 40.]\n"
     ]
    }
   ],
   "source": [
    "c = np.array([1,0]).dot(A.T) # c = \\lambda_1，原料最少\n",
    "K = op.linprog(c, A_ub, b_ub)\n",
    "print(f'倍率：{K.x}\\n原料：{A.T.dot(K.x)}\\n产物：{B.T.dot(K.x)}')"
   ]
  },
  {
   "cell_type": "code",
   "execution_count": 79,
   "id": "f321cb73-c2b1-47f1-aef5-93e569e279cf",
   "metadata": {},
   "outputs": [
    {
     "name": "stdout",
     "output_type": "stream",
     "text": [
      "倍率：[2.649573 0.162393 1.08547 ]\n",
      "原料：[52.991453 45.213675]\n",
      "产物：[10. 10. 40.]\n"
     ]
    }
   ],
   "source": [
    "c = np.array([1,1,1]).dot(B.T) # c = \\lambda_2, 产物最接近目标\n",
    "K = op.linprog(c, A_ub, b_ub)\n",
    "print(f'倍率：{K.x}\\n原料：{A.T.dot(K.x)}\\n产物：{B.T.dot(K.x)}')"
   ]
  },
  {
   "cell_type": "markdown",
   "id": "cde5b6b4-1c0b-424e-90bf-c1c32ce60d08",
   "metadata": {},
   "source": [
    "## 2. 岩浆副产品问题\n",
    "设\n",
    "$$\\langle x \\rangle = \\langle 岩浆, 方解石 \\rangle, \\langle y \\rangle = \\langle 熔融铁, 熔融铜, 石矿 \\rangle $$\n",
    "已知各配方（工厂）单位时间基础产量\n",
    "$$\n",
    "V_i = \\begin{bmatrix} 岩浆制熔融铁 \\\\ 岩浆制熔融铜 \\\\ 销毁熔融铜 \\\\ 销毁石矿 \\end{bmatrix} = \n",
    "\\begin{bmatrix}\n",
    " -500 & -1 & 250 & 0 & 10 \\\\\n",
    " -500 & -1 & 0 & 250 & 15 \\\\\n",
    " 0 & 0 & 0 & -1000 & 0 \\\\\n",
    " 0 & 0 & 0 & 0 & -1000 \\\\\n",
    "\\end{bmatrix} \\cdot \\langle x, y \\rangle\n",
    "$$\n",
    "设单位时间至少需输出 $\\begin{bmatrix} B_{0,1} & B_{0,2} & B_{0,3} \\end{bmatrix} \\cdot \\langle y \\rangle$，求各配方的倍率（工厂数量）$K = \\begin{bmatrix} k_1, k_2, k_3 \\end{bmatrix}$:"
   ]
  },
  {
   "cell_type": "code",
   "execution_count": 80,
   "id": "a730e052-1df1-42bc-8efc-ed904147556a",
   "metadata": {},
   "outputs": [],
   "source": [
    "A = np.array([[500,1],[500,1],[0,0],[0,0]])\n",
    "B = np.array([[250, 0, 10],[-0,250,15],[0,-1000,0],[0,0,-1000]])\n",
    "A_ub = -np.vstack([A.T, B.T])\n",
    "# b0 = np.array([b01,b02,b03])\n",
    "# b_ub = -np.hstack([[0, 0], b0])\n",
    "\n",
    "c = np.array([1,1,1]).dot(B.T) # c = \\lambda_2，产物最接近目标"
   ]
  },
  {
   "cell_type": "code",
   "execution_count": 98,
   "id": "636944ad-c5b8-4878-8780-90da781b8f08",
   "metadata": {},
   "outputs": [
    {
     "name": "stdout",
     "output_type": "stream",
     "text": [
      "倍率：[80.       26.666667  1.666667  0.      ]\n",
      "原料：[53333.333333   106.666667]\n",
      "产物：[20000.  5000.  1200.]\n"
     ]
    }
   ],
   "source": [
    "# 石矿不足\n",
    "b0 = np.array([20000, 5000, 1200]) # 目标\n",
    "b_ub = -np.hstack([[0, 0], b0])\n",
    "K = op.linprog(c, A_ub, b_ub)\n",
    "print(f'倍率：{K.x}\\n原料：{A.T.dot(K.x)}\\n产物：{B.T.dot(K.x)}')"
   ]
  },
  {
   "cell_type": "code",
   "execution_count": 99,
   "id": "894c1279-3a61-4e87-b97c-6c70499ec78b",
   "metadata": {},
   "outputs": [
    {
     "name": "stdout",
     "output_type": "stream",
     "text": [
      "倍率：[20.  80.   0.   0.2]\n",
      "原料：[50000.   100.]\n",
      "产物：[ 5000. 20000.  1200.]\n"
     ]
    }
   ],
   "source": [
    "# 石矿溢出\n",
    "b0 = np.array([5000, 20000, 1200]) # 目标\n",
    "b_ub = -np.hstack([[0, 0], b0])\n",
    "K = op.linprog(c, A_ub, b_ub)\n",
    "print(f'倍率：{K.x}\\n原料：{A.T.dot(K.x)}\\n产物：{B.T.dot(K.x)}')"
   ]
  },
  {
   "cell_type": "code",
   "execution_count": null,
   "id": "14735b93-9e84-4944-a2af-4a166ff141f2",
   "metadata": {},
   "outputs": [],
   "source": []
  }
 ],
 "metadata": {
  "kernelspec": {
   "display_name": "Python 3 (ipykernel)",
   "language": "python",
   "name": "python3"
  },
  "language_info": {
   "codemirror_mode": {
    "name": "ipython",
    "version": 3
   },
   "file_extension": ".py",
   "mimetype": "text/x-python",
   "name": "python",
   "nbconvert_exporter": "python",
   "pygments_lexer": "ipython3",
   "version": "3.12.3"
  }
 },
 "nbformat": 4,
 "nbformat_minor": 5
}
